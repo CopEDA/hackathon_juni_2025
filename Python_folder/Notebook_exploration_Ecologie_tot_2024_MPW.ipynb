{
 "cells": [
  {
   "cell_type": "markdown",
   "id": "39aa73ae",
   "metadata": {},
   "source": []
  },
  {
   "cell_type": "code",
   "execution_count": 3,
   "id": "e8d5256e",
   "metadata": {},
   "outputs": [],
   "source": [
    "#importeer libraries\n",
    "import pandas as pd"
   ]
  },
  {
   "cell_type": "code",
   "execution_count": 9,
   "id": "3d22873e",
   "metadata": {},
   "outputs": [],
   "source": [
    "#Ecologie delfland\n",
    "data_2024 = pd.read_excel(\"..\\Ecologie_tot_2024.xlsx\")\n",
    "data_macrofyten_aanvullend_richness = pd.read_excel(\"..\\Macrofyten_Hackathon_update25_06.xlsx\", sheet_name = \"Macrofyten_Richness\")\n",
    "data_macrofyten_aanvullend_EKR = pd.read_excel(\"..\\Macrofyten_Hackathon_update25_06.xlsx\", sheet_name = \"Macrofyten_EKR\")\n",
    "data_macrofyten_aanvullend_Chemie = pd.read_excel(\"..\\Macrofyten_Hackathon_update25_06.xlsx\", sheet_name = \"Chemie_meetgegevens\")\n",
    "data_macrofyten_aanvullend_Meetpunt = pd.read_excel(\"..\\Macrofyten_Hackathon_update25_06.xlsx\", sheet_name = \"Meetpunt_informatie\")\n",
    "data_macrofyten_aanvullend_Weer = pd.read_excel(\"..\\Macrofyten_Hackathon_update25_06.xlsx\", sheet_name = \"Weer_historie\")"
   ]
  },
  {
   "cell_type": "code",
   "execution_count": 7,
   "id": "36876130",
   "metadata": {},
   "outputs": [
    {
     "name": "stdout",
     "output_type": "stream",
     "text": [
      "    MeetObject  Jaar  Maand Opnemer  Richness_Aantallen\n",
      "0    OW005-000  2020      8     RTR                   2\n",
      "1    OW007-000  2022      8     EFL                   1\n",
      "2    OW007-001  2020      8     RTR                   7\n",
      "3    OW014-000  2022      8     EFL                   1\n",
      "4    OW015-003  2019      8     EXT                  10\n",
      "..         ...   ...    ...     ...                 ...\n",
      "691  OW413-012  2013      6     NaN                  10\n",
      "692  OW413-013  2013      6     NaN                  10\n",
      "693  OW413-013  2016      7     NaN                  10\n",
      "694  OW414-011  2016      6     NaN                   8\n",
      "695  OW414-011  2013      7     NaN                   3\n",
      "\n",
      "[696 rows x 5 columns]\n"
     ]
    }
   ],
   "source": [
    "print(data_macrofyten_aanvullend)"
   ]
  },
  {
   "cell_type": "markdown",
   "id": "388db4f7",
   "metadata": {},
   "source": []
  }
 ],
 "metadata": {
  "kernelspec": {
   "display_name": "HDFPython",
   "language": "python",
   "name": "python3"
  },
  "language_info": {
   "codemirror_mode": {
    "name": "ipython",
    "version": 3
   },
   "file_extension": ".py",
   "mimetype": "text/x-python",
   "name": "python",
   "nbconvert_exporter": "python",
   "pygments_lexer": "ipython3",
   "version": "3.10.0"
  }
 },
 "nbformat": 4,
 "nbformat_minor": 5
}
